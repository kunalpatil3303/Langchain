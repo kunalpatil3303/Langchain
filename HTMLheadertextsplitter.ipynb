{
 "cells": [
  {
   "cell_type": "code",
   "execution_count": 14,
   "id": "78f3d670",
   "metadata": {},
   "outputs": [
    {
     "ename": "ValueError",
     "evalue": "invalid literal for int() with base 10: 'iv'",
     "output_type": "error",
     "traceback": [
      "\u001b[31m---------------------------------------------------------------------------\u001b[39m",
      "\u001b[31mValueError\u001b[39m                                Traceback (most recent call last)",
      "\u001b[36mCell\u001b[39m\u001b[36m \u001b[39m\u001b[32mIn[14]\u001b[39m\u001b[32m, line 17\u001b[39m\n\u001b[32m     14\u001b[39m headers_to_split_on = [ (\u001b[33m\"\u001b[39m\u001b[33mh1\u001b[39m\u001b[33m\"\u001b[39m, \u001b[33m\"\u001b[39m\u001b[33mHeader 1\u001b[39m\u001b[33m\"\u001b[39m), (\u001b[33m\"\u001b[39m\u001b[33mdiv\u001b[39m\u001b[33m\"\u001b[39m, \u001b[33m\"\u001b[39m\u001b[33mDiv Header\u001b[39m\u001b[33m\"\u001b[39m), ]\n\u001b[32m     16\u001b[39m \u001b[38;5;66;03m# Split by HTML structure (headers, paragraphs, etc.)\u001b[39;00m\n\u001b[32m---> \u001b[39m\u001b[32m17\u001b[39m splitter = \u001b[43mHTMLHeaderTextSplitter\u001b[49m\u001b[43m(\u001b[49m\u001b[43mheaders_to_split_on\u001b[49m\u001b[43m \u001b[49m\u001b[43m=\u001b[49m\u001b[43m \u001b[49m\u001b[43mheaders_to_split_on\u001b[49m\u001b[43m)\u001b[49m\n\u001b[32m     19\u001b[39m splits = splitter.split_text(html_string)\n\u001b[32m     21\u001b[39m \u001b[38;5;28;01mfor\u001b[39;00m doc \u001b[38;5;129;01min\u001b[39;00m splits:\n",
      "\u001b[36mFile \u001b[39m\u001b[32mc:\\Users\\KUNAL\\OneDrive\\Desktop\\Machine Learning\\Langchain\\.venv\\Lib\\site-packages\\langchain_text_splitters\\html.py:122\u001b[39m, in \u001b[36mHTMLHeaderTextSplitter.__init__\u001b[39m\u001b[34m(self, headers_to_split_on, return_each_element)\u001b[39m\n\u001b[32m    108\u001b[39m \u001b[38;5;250m\u001b[39m\u001b[33;03m\"\"\"Initialize with headers to split on.\u001b[39;00m\n\u001b[32m    109\u001b[39m \n\u001b[32m    110\u001b[39m \u001b[33;03mArgs:\u001b[39;00m\n\u001b[32m   (...)\u001b[39m\u001b[32m    119\u001b[39m \u001b[33;03m        aggregated into fewer Documents.\u001b[39;00m\n\u001b[32m    120\u001b[39m \u001b[33;03m\"\"\"\u001b[39;00m\n\u001b[32m    121\u001b[39m \u001b[38;5;66;03m# Sort headers by their numeric level so that h1 < h2 < h3...\u001b[39;00m\n\u001b[32m--> \u001b[39m\u001b[32m122\u001b[39m \u001b[38;5;28mself\u001b[39m.headers_to_split_on = \u001b[38;5;28;43msorted\u001b[39;49m\u001b[43m(\u001b[49m\n\u001b[32m    123\u001b[39m \u001b[43m    \u001b[49m\u001b[43mheaders_to_split_on\u001b[49m\u001b[43m,\u001b[49m\u001b[43m \u001b[49m\u001b[43mkey\u001b[49m\u001b[43m=\u001b[49m\u001b[38;5;28;43;01mlambda\u001b[39;49;00m\u001b[43m \u001b[49m\u001b[43mx\u001b[49m\u001b[43m:\u001b[49m\u001b[43m \u001b[49m\u001b[38;5;28;43mint\u001b[39;49m\u001b[43m(\u001b[49m\u001b[43mx\u001b[49m\u001b[43m[\u001b[49m\u001b[32;43m0\u001b[39;49m\u001b[43m]\u001b[49m\u001b[43m[\u001b[49m\u001b[32;43m1\u001b[39;49m\u001b[43m:\u001b[49m\u001b[43m]\u001b[49m\u001b[43m)\u001b[49m\n\u001b[32m    124\u001b[39m \u001b[43m\u001b[49m\u001b[43m)\u001b[49m\n\u001b[32m    125\u001b[39m \u001b[38;5;28mself\u001b[39m.header_mapping = \u001b[38;5;28mdict\u001b[39m(\u001b[38;5;28mself\u001b[39m.headers_to_split_on)\n\u001b[32m    126\u001b[39m \u001b[38;5;28mself\u001b[39m.header_tags = [tag \u001b[38;5;28;01mfor\u001b[39;00m tag, _ \u001b[38;5;129;01min\u001b[39;00m \u001b[38;5;28mself\u001b[39m.headers_to_split_on]\n",
      "\u001b[36mFile \u001b[39m\u001b[32mc:\\Users\\KUNAL\\OneDrive\\Desktop\\Machine Learning\\Langchain\\.venv\\Lib\\site-packages\\langchain_text_splitters\\html.py:123\u001b[39m, in \u001b[36mHTMLHeaderTextSplitter.__init__.<locals>.<lambda>\u001b[39m\u001b[34m(x)\u001b[39m\n\u001b[32m    108\u001b[39m \u001b[38;5;250m\u001b[39m\u001b[33;03m\"\"\"Initialize with headers to split on.\u001b[39;00m\n\u001b[32m    109\u001b[39m \n\u001b[32m    110\u001b[39m \u001b[33;03mArgs:\u001b[39;00m\n\u001b[32m   (...)\u001b[39m\u001b[32m    119\u001b[39m \u001b[33;03m        aggregated into fewer Documents.\u001b[39;00m\n\u001b[32m    120\u001b[39m \u001b[33;03m\"\"\"\u001b[39;00m\n\u001b[32m    121\u001b[39m \u001b[38;5;66;03m# Sort headers by their numeric level so that h1 < h2 < h3...\u001b[39;00m\n\u001b[32m    122\u001b[39m \u001b[38;5;28mself\u001b[39m.headers_to_split_on = \u001b[38;5;28msorted\u001b[39m(\n\u001b[32m--> \u001b[39m\u001b[32m123\u001b[39m     headers_to_split_on, key=\u001b[38;5;28;01mlambda\u001b[39;00m x: \u001b[38;5;28;43mint\u001b[39;49m\u001b[43m(\u001b[49m\u001b[43mx\u001b[49m\u001b[43m[\u001b[49m\u001b[32;43m0\u001b[39;49m\u001b[43m]\u001b[49m\u001b[43m[\u001b[49m\u001b[32;43m1\u001b[39;49m\u001b[43m:\u001b[49m\u001b[43m]\u001b[49m\u001b[43m)\u001b[49m\n\u001b[32m    124\u001b[39m )\n\u001b[32m    125\u001b[39m \u001b[38;5;28mself\u001b[39m.header_mapping = \u001b[38;5;28mdict\u001b[39m(\u001b[38;5;28mself\u001b[39m.headers_to_split_on)\n\u001b[32m    126\u001b[39m \u001b[38;5;28mself\u001b[39m.header_tags = [tag \u001b[38;5;28;01mfor\u001b[39;00m tag, _ \u001b[38;5;129;01min\u001b[39;00m \u001b[38;5;28mself\u001b[39m.headers_to_split_on]\n",
      "\u001b[31mValueError\u001b[39m: invalid literal for int() with base 10: 'iv'"
     ]
    }
   ],
   "source": [
    "from langchain_text_splitters import HTMLHeaderTextSplitter\n",
    "\n",
    "html_string = \"\"\"\n",
    "<html>\n",
    "  <body>\n",
    "    <h1>Introduction</h1>\n",
    "    <div>This is the intro content.</div>\n",
    "    <h1>Details</h1>\n",
    "    <div>Here are the details.</div>\n",
    "  </body>\n",
    "</html>\n",
    "\"\"\"\n",
    "\n",
    "headers_to_split_on = [ (\"h1\", \"Header 1\"), (\"div\", \"Div Header\"), ]\n",
    "\n",
    "# Split by HTML structure (headers, paragraphs, etc.)\n",
    "splitter = HTMLHeaderTextSplitter(headers_to_split_on = headers_to_split_on)\n",
    "\n",
    "splits = splitter.split_text(html_string)\n",
    "\n",
    "for doc in splits:\n",
    "    print(doc.metadata, \":\", doc.page_content)\n"
   ]
  }
 ],
 "metadata": {
  "kernelspec": {
   "display_name": ".venv",
   "language": "python",
   "name": "python3"
  },
  "language_info": {
   "codemirror_mode": {
    "name": "ipython",
    "version": 3
   },
   "file_extension": ".py",
   "mimetype": "text/x-python",
   "name": "python",
   "nbconvert_exporter": "python",
   "pygments_lexer": "ipython3",
   "version": "3.12.4"
  }
 },
 "nbformat": 4,
 "nbformat_minor": 5
}
